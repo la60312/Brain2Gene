{
 "cells": [
  {
   "cell_type": "code",
   "execution_count": 1,
   "id": "ef93e465",
   "metadata": {
    "scrolled": true
   },
   "outputs": [
    {
     "name": "stderr",
     "output_type": "stream",
     "text": [
      "C:\\Users\\jjadd\\anaconda3\\lib\\site-packages\\openjpeg\\utils.py:314: UserWarning: The (0028,0101) Bits Stored value '12' in the dataset does not match the component precision value '16' found in the JPEG 2000 data. It's recommended that you change the Bits Stored value to produce the correct output\n",
      "  warnings.warn(\n"
     ]
    },
    {
     "name": "stdout",
     "output_type": "stream",
     "text": [
      "Processed 100 files in 2.04 seconds\n",
      "Processed 200 files in 2.91 seconds\n",
      "Processed 300 files in 4.83 seconds\n",
      "Processed 400 files in 7.20 seconds\n",
      "Processed 500 files in 9.96 seconds\n",
      "Processed 600 files in 10.86 seconds\n",
      "Processed 700 files in 11.75 seconds\n",
      "Processed 800 files in 12.66 seconds\n",
      "Processed 900 files in 13.54 seconds\n",
      "Processed 1000 files in 15.95 seconds\n",
      "Processed 1100 files in 17.55 seconds\n",
      "Processed 1200 files in 18.78 seconds\n",
      "Processed 1300 files in 21.15 seconds\n",
      "Processed 1400 files in 22.19 seconds\n",
      "Processed 1500 files in 23.23 seconds\n",
      "Processed 1600 files in 24.17 seconds\n",
      "Processed 1700 files in 25.75 seconds\n",
      "Processed 1800 files in 27.31 seconds\n",
      "Processed 1900 files in 28.87 seconds\n",
      "Processed 2000 files in 29.30 seconds\n",
      "Processed 2100 files in 30.41 seconds\n",
      "Processed 2200 files in 31.67 seconds\n",
      "Processed 2300 files in 32.69 seconds\n",
      "Processed 2400 files in 34.35 seconds\n",
      "Processed 2500 files in 36.63 seconds\n",
      "Processed 2600 files in 38.30 seconds\n",
      "Processed 2700 files in 39.04 seconds\n",
      "Processed 2800 files in 40.10 seconds\n",
      "Processed 2900 files in 40.92 seconds\n",
      "Processed 3000 files in 42.37 seconds\n",
      "Processed 3100 files in 43.19 seconds\n",
      "Processed 3200 files in 43.99 seconds\n",
      "Processed 3300 files in 44.82 seconds\n",
      "Processed 3400 files in 46.56 seconds\n",
      "Processed 3500 files in 47.50 seconds\n",
      "Processed 3600 files in 47.94 seconds\n",
      "Processed 3700 files in 48.35 seconds\n",
      "Processed 3774 files in 49.10 seconds\n"
     ]
    }
   ],
   "source": [
    "import os\n",
    "import pydicom\n",
    "import cv2\n",
    "import numpy as np\n",
    "import tensorflow as tf\n",
    "import time\n",
    "\n",
    "data_path = \"D:\\\\MRI Work\\\\fastMRI_dataset\\\\fastMRI_short\"\n",
    "\n",
    "# preprocessing\n",
    "def preprocess_dicom(dicom_path):\n",
    "    dicom = pydicom.dcmread(dicom_path)\n",
    "    image = dicom.pixel_array\n",
    "    image = cv2.resize(image, (224, 224))\n",
    "    image = image.astype(np.float32) / np.max(image)\n",
    "    return image\n",
    "\n",
    "# loading\n",
    "def load_data(data_path):\n",
    "    images = []\n",
    "    labels = []\n",
    "    file_count = 0\n",
    "    start_time = time.time()\n",
    "    for root, dirs, files in os.walk(data_path):\n",
    "        for file in files:\n",
    "            if file.endswith(\".dcm\"):\n",
    "                dicom_path = os.path.join(root, file)\n",
    "                image = preprocess_dicom(dicom_path)\n",
    "                images.append(image)\n",
    "                dicom = pydicom.dcmread(dicom_path)\n",
    "                patient_age_str = dicom.get(\"PatientAge\", None)\n",
    "\n",
    "                if patient_age_str: # removing the \"Y\"\n",
    "                    age = int(patient_age_str[:-1])\n",
    "                    labels.append(age)\n",
    "                else:\n",
    "                    print(f\"Patient's Age not found in {dicom_path}\")\n",
    "                    continue\n",
    "                file_count += 1\n",
    "                if file_count % 100 == 0:\n",
    "                    elapsed_time = time.time() - start_time\n",
    "                    print(f\"Processed {file_count} files in {elapsed_time:.2f} seconds\")\n",
    "    total_time = time.time() - start_time\n",
    "    print(f\"Processed {file_count} files in {total_time:.2f} seconds\")\n",
    "\n",
    "    return np.array(images), np.array(labels)\n",
    "\n",
    "X, y = load_data(data_path)\n",
    "\n",
    "# grayscale images\n",
    "X = np.expand_dims(X, axis=-1)"
   ]
  },
  {
   "cell_type": "code",
   "execution_count": 7,
   "id": "439ebac8",
   "metadata": {},
   "outputs": [],
   "source": [
    "# model\n",
    "def build_model(input_shape):\n",
    "    model = models.Sequential([\n",
    "        layers.Conv2D(128, (3, 3), activation='relu', input_shape=input_shape),\n",
    "        layers.MaxPooling2D((2, 2)),\n",
    "        layers.Conv2D(64, (3, 3), activation='relu'),\n",
    "        layers.MaxPooling2D((2, 2)),\n",
    "        layers.Conv2D(32, (3, 3), activation='relu'),\n",
    "        layers.MaxPooling2D((2, 2)),\n",
    "        layers.Flatten(),\n",
    "        layers.Dense(32, activation='relu'),\n",
    "        layers.Dense(1)\n",
    "    ])\n",
    "    model.compile(optimizer='adam', loss='mse', metrics=['mae'])\n",
    "    return model\n",
    "\n",
    "input_shape = (224, 224, 1)\n",
    "model = build_model(input_shape)"
   ]
  },
  {
   "cell_type": "code",
   "execution_count": null,
   "id": "de4634e7",
   "metadata": {
    "scrolled": true
   },
   "outputs": [
    {
     "name": "stdout",
     "output_type": "stream",
     "text": [
      "Epoch 1/10\n",
      "95/95 [==============================] - 598s 6s/step - loss: 640.2355 - mae: 20.3700 - val_loss: 495.0091 - val_mae: 17.8870\n",
      "Epoch 2/10\n",
      "95/95 [==============================] - 610s 6s/step - loss: 475.6357 - mae: 18.1880 - val_loss: 453.9357 - val_mae: 18.1067\n",
      "Epoch 3/10\n",
      "95/95 [==============================] - 633s 7s/step - loss: 463.2850 - mae: 17.9387 - val_loss: 448.4327 - val_mae: 17.8992\n",
      "Epoch 4/10\n",
      "95/95 [==============================] - 616s 6s/step - loss: 460.0583 - mae: 17.8935 - val_loss: 446.2277 - val_mae: 17.7182\n",
      "Epoch 5/10\n",
      "53/95 [===============>..............] - ETA: 4:07 - loss: 488.6819 - mae: 18.4207"
     ]
    }
   ],
   "source": [
    "from sklearn.model_selection import train_test_split\n",
    "\n",
    "X_train, X_val, y_train, y_val = train_test_split(X, y, test_size=0.2, random_state=42)\n",
    "history = model.fit(X_train, y_train, epochs=10, batch_size=32, validation_data=(X_val, y_val))"
   ]
  },
  {
   "cell_type": "code",
   "execution_count": 4,
   "id": "e1eb9ed0",
   "metadata": {},
   "outputs": [
    {
     "name": "stdout",
     "output_type": "stream",
     "text": [
      "24/24 [==============================] - 15s 642ms/step - loss: 189.8911 - mae: 10.9066\n",
      "Validation MAE: 10.906579971313477\n"
     ]
    },
    {
     "data": {
      "image/png": "[encoded data removed]",
      "text/plain": [
       "<Figure size 432x288 with 1 Axes>"
      ]
     },
     "metadata": {
      "needs_background": "light"
     },
     "output_type": "display_data"
    }
   ],
   "source": [
    "# Evaluate the model\n",
    "val_loss, val_mae = model.evaluate(X_val, y_val)\n",
    "print(f\"Validation MAE: {val_mae}\")\n",
    "\n",
    "# Optional: Plot training history\n",
    "import matplotlib.pyplot as plt\n",
    "\n",
    "plt.plot(history.history['mae'], label='MAE')\n",
    "plt.plot(history.history['val_mae'], label='Val MAE')\n",
    "plt.xlabel('Epoch')\n",
    "plt.ylabel('Mean Absolute Error')\n",
    "plt.legend()\n",
    "plt.show()"
   ]
  },
  {
   "cell_type": "code",
   "execution_count": 6,
   "id": "f23814e3",
   "metadata": {},
   "outputs": [
    {
     "name": "stdout",
     "output_type": "stream",
     "text": [
      "24/24 [==============================] - 10s 425ms/step\n",
      "Mean Absolute Error (MAE): 10.906580143732741\n",
      "Mean Squared Error (MSE): 189.8911447169449\n",
      "Root Mean Squared Error (RMSE): 13.780099590240445\n"
     ]
    }
   ],
   "source": [
    "from sklearn.metrics import mean_absolute_error, mean_squared_error\n",
    "\n",
    "y_pred = model.predict(X_val)\n",
    "\n",
    "# Calculate MAE, MSE, and RMSE\n",
    "mae = mean_absolute_error(y_val, y_pred)\n",
    "mse = mean_squared_error(y_val, y_pred)\n",
    "rmse = np.sqrt(mse)\n",
    "\n",
    "# Print the results\n",
    "print(f\"Mean Absolute Error (MAE): {mae}\")\n",
    "print(f\"Mean Squared Error (MSE): {mse}\")\n",
    "print(f\"Root Mean Squared Error (RMSE): {rmse}\")"
   ]
  }
 ],
 "metadata": {
  "kernelspec": {
   "display_name": "Python 3 (ipykernel)",
   "language": "python",
   "name": "python3"
  },
  "language_info": {
   "codemirror_mode": {
    "name": "ipython",
    "version": 3
   },
   "file_extension": ".py",
   "mimetype": "text/x-python",
   "name": "python",
   "nbconvert_exporter": "python",
   "pygments_lexer": "ipython3",
   "version": "3.9.12"
  }
 },
 "nbformat": 4,
 "nbformat_minor": 5
}
